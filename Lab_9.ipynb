{
  "nbformat": 4,
  "nbformat_minor": 0,
  "metadata": {
    "colab": {
      "provenance": [],
      "authorship_tag": "ABX9TyO5+zq/W2k48bZYnzOP7VZ8",
      "include_colab_link": true
    },
    "kernelspec": {
      "name": "python3",
      "display_name": "Python 3"
    },
    "language_info": {
      "name": "python"
    }
  },
  "cells": [
    {
      "cell_type": "markdown",
      "metadata": {
        "id": "view-in-github",
        "colab_type": "text"
      },
      "source": [
        "<a href=\"https://colab.research.google.com/github/VaughnnIvan/BSIS2-DV-LAB9-VHABER/blob/main/Lab_9.ipynb\" target=\"_parent\"><img src=\"https://colab.research.google.com/assets/colab-badge.svg\" alt=\"Open In Colab\"/></a>"
      ]
    },
    {
      "cell_type": "code",
      "execution_count": 1,
      "metadata": {
        "colab": {
          "base_uri": "https://localhost:8080/"
        },
        "id": "jEyliXxoO0uL",
        "outputId": "b4d5ca60-5aa5-4ba7-c66f-99141795a753"
      },
      "outputs": [
        {
          "output_type": "stream",
          "name": "stdout",
          "text": [
            "()\n"
          ]
        }
      ],
      "source": [
        "emptyT=()\n",
        "print(emptyT)"
      ]
    },
    {
      "cell_type": "code",
      "source": [
        "z=(9,7,3,8,)\n",
        "print(z)"
      ],
      "metadata": {
        "colab": {
          "base_uri": "https://localhost:8080/"
        },
        "id": "CXuzOdXYO-kk",
        "outputId": "e0d6ac42-1587-4cb9-e95b-1f51934c4ca3"
      },
      "execution_count": 2,
      "outputs": [
        {
          "output_type": "stream",
          "name": "stdout",
          "text": [
            "(9, 7, 3, 8)\n"
          ]
        }
      ]
    },
    {
      "cell_type": "code",
      "source": [
        "tup1=('Vaughn Ivan',)\n",
        "tup2='Vaughn Ivan',\n",
        "notTuple=('Vaughn Ivan')\n",
        "print(type(notTuple))"
      ],
      "metadata": {
        "colab": {
          "base_uri": "https://localhost:8080/"
        },
        "id": "uoeo7ZwEPGCk",
        "outputId": "6e9e6de4-d178-4cce-8a68-09c34b5c3092"
      },
      "execution_count": 3,
      "outputs": [
        {
          "output_type": "stream",
          "name": "stdout",
          "text": [
            "<class 'str'>\n"
          ]
        }
      ]
    },
    {
      "cell_type": "code",
      "source": [
        "z=(9,7,3,8)\n",
        "print(z[0])"
      ],
      "metadata": {
        "colab": {
          "base_uri": "https://localhost:8080/"
        },
        "id": "FAKJCLfoPL04",
        "outputId": "dd34b18e-19b8-4818-a46f-0d99801508ee"
      },
      "execution_count": 4,
      "outputs": [
        {
          "output_type": "stream",
          "name": "stdout",
          "text": [
            "9\n"
          ]
        }
      ]
    },
    {
      "cell_type": "code",
      "source": [
        "z=(9,7,3,8)\n",
        "print(z[-1])"
      ],
      "metadata": {
        "colab": {
          "base_uri": "https://localhost:8080/"
        },
        "id": "BmsSq_IyPRyN",
        "outputId": "784e4a3a-b63e-4def-c0c4-209a67f4eb15"
      },
      "execution_count": 5,
      "outputs": [
        {
          "output_type": "stream",
          "name": "stdout",
          "text": [
            "8\n"
          ]
        }
      ]
    },
    {
      "cell_type": "code",
      "source": [
        "z=(9,7,3,8)\n",
        "print(z[0:2])"
      ],
      "metadata": {
        "colab": {
          "base_uri": "https://localhost:8080/"
        },
        "id": "bA7NpfsuPVSj",
        "outputId": "66596f23-9415-4b06-d340-323e70311b8d"
      },
      "execution_count": 6,
      "outputs": [
        {
          "output_type": "stream",
          "name": "stdout",
          "text": [
            "(9, 7)\n"
          ]
        }
      ]
    },
    {
      "cell_type": "code",
      "source": [
        "z=(9,7,3,8)\n",
        "print(z[-4:-1])"
      ],
      "metadata": {
        "colab": {
          "base_uri": "https://localhost:8080/"
        },
        "id": "-oxzE2XDPaaL",
        "outputId": "95a07cdd-92fb-4aa5-d90a-50e05c9d3170"
      },
      "execution_count": 7,
      "outputs": [
        {
          "output_type": "stream",
          "name": "stdout",
          "text": [
            "(9, 7, 3)\n"
          ]
        }
      ]
    },
    {
      "cell_type": "code",
      "source": [
        "a,b,c,d=(9,7,3,8)\n",
        "print(a)\n",
        "print(b)\n",
        "print(c)\n",
        "print(d)"
      ],
      "metadata": {
        "colab": {
          "base_uri": "https://localhost:8080/"
        },
        "id": "DuczUuBTPfSB",
        "outputId": "fddb2a0a-5c8d-4069-fdee-54c0f096b409"
      },
      "execution_count": 8,
      "outputs": [
        {
          "output_type": "stream",
          "name": "stdout",
          "text": [
            "9\n",
            "7\n",
            "3\n",
            "8\n"
          ]
        }
      ]
    },
    {
      "cell_type": "code",
      "source": [
        "characs=('Eula','Rosaria','Bennet','Chongyun')\n",
        "for index, characs in enumerate(characs):\n",
        "   print(index,characs)"
      ],
      "metadata": {
        "colab": {
          "base_uri": "https://localhost:8080/"
        },
        "id": "LwHszcIqPkMS",
        "outputId": "2e9bed6f-05b3-4788-ea88-c3464c99edb5"
      },
      "execution_count": 9,
      "outputs": [
        {
          "output_type": "stream",
          "name": "stdout",
          "text": [
            "0 Eula\n",
            "1 Rosaria\n",
            "2 Bennet\n",
            "3 Chongyun\n"
          ]
        }
      ]
    },
    {
      "cell_type": "code",
      "source": [
        "emptyT=tuple()\n",
        "print(emptyT)"
      ],
      "metadata": {
        "colab": {
          "base_uri": "https://localhost:8080/"
        },
        "id": "qZZ4hjPJP4nr",
        "outputId": "48300aa3-280d-4ec4-eba1-8f221d6310cc"
      },
      "execution_count": 10,
      "outputs": [
        {
          "output_type": "stream",
          "name": "stdout",
          "text": [
            "()\n"
          ]
        }
      ]
    }
  ]
}